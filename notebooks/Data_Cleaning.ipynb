{
 "cells": [
  {
   "cell_type": "markdown",
   "metadata": {},
   "source": [
    "## Data Cleaning\n",
    "In this step, you will clean the merged data (scraped_data.xlsx) you generated from Task 1.\n",
    "\n",
    "#### 1. Load the Merged Data:\n",
    "Create a new notebook or continue in the existing one. Load the scraped_data.xlsx file.\n"
   ]
  },
  {
   "cell_type": "code",
   "execution_count": 9,
   "metadata": {},
   "outputs": [
    {
     "data": {
      "text/html": [
       "<div>\n",
       "<style scoped>\n",
       "    .dataframe tbody tr th:only-of-type {\n",
       "        vertical-align: middle;\n",
       "    }\n",
       "\n",
       "    .dataframe tbody tr th {\n",
       "        vertical-align: top;\n",
       "    }\n",
       "\n",
       "    .dataframe thead th {\n",
       "        text-align: right;\n",
       "    }\n",
       "</style>\n",
       "<table border=\"1\" class=\"dataframe\">\n",
       "  <thead>\n",
       "    <tr style=\"text-align: right;\">\n",
       "      <th></th>\n",
       "      <th>message_id</th>\n",
       "      <th>date</th>\n",
       "      <th>sender_id</th>\n",
       "      <th>message</th>\n",
       "      <th>media_path</th>\n",
       "      <th>channel_name</th>\n",
       "    </tr>\n",
       "  </thead>\n",
       "  <tbody>\n",
       "    <tr>\n",
       "      <th>0</th>\n",
       "      <td>864</td>\n",
       "      <td>2023-12-18 17:04:02+00:00</td>\n",
       "      <td>-1001102021238</td>\n",
       "      <td>https://youtu.be/5DBoEm-8kmA?si=LDLuEecNfULJVD...</td>\n",
       "      <td>NaN</td>\n",
       "      <td>DoctorsET</td>\n",
       "    </tr>\n",
       "    <tr>\n",
       "      <th>1</th>\n",
       "      <td>863</td>\n",
       "      <td>2023-11-03 16:14:39+00:00</td>\n",
       "      <td>-1001102021238</td>\n",
       "      <td>ዶክተርስ ኢትዮጵያ በ አዲስ አቀራረብ በ ቴሌቪዥን ፕሮግራሙን ለመጀመር ከ...</td>\n",
       "      <td>NaN</td>\n",
       "      <td>DoctorsET</td>\n",
       "    </tr>\n",
       "    <tr>\n",
       "      <th>2</th>\n",
       "      <td>862</td>\n",
       "      <td>2023-10-02 16:37:39+00:00</td>\n",
       "      <td>-1001102021238</td>\n",
       "      <td>ሞት በስኳር \\r\\n\\r\\nለልጆቻችን የምናሲዘው ምሳቃ ሳናቀው እድሚያቸውን...</td>\n",
       "      <td>NaN</td>\n",
       "      <td>DoctorsET</td>\n",
       "    </tr>\n",
       "    <tr>\n",
       "      <th>3</th>\n",
       "      <td>861</td>\n",
       "      <td>2023-09-16 07:54:32+00:00</td>\n",
       "      <td>-1001102021238</td>\n",
       "      <td>ከ HIV የተፈወሰ ሰው አጋጥሟችሁ ያቃል ? ፈውስ እና ህክምና ?\\r\\n\\...</td>\n",
       "      <td>NaN</td>\n",
       "      <td>DoctorsET</td>\n",
       "    </tr>\n",
       "    <tr>\n",
       "      <th>4</th>\n",
       "      <td>860</td>\n",
       "      <td>2023-09-01 16:16:15+00:00</td>\n",
       "      <td>-1001102021238</td>\n",
       "      <td>በቅርብ ጊዜ በሃገራችን ላይ እየተስተዋለ ያለ የተመሳሳይ ፆታ ( Homos...</td>\n",
       "      <td>NaN</td>\n",
       "      <td>DoctorsET</td>\n",
       "    </tr>\n",
       "  </tbody>\n",
       "</table>\n",
       "</div>"
      ],
      "text/plain": [
       "   message_id                       date      sender_id  \\\n",
       "0         864  2023-12-18 17:04:02+00:00 -1001102021238   \n",
       "1         863  2023-11-03 16:14:39+00:00 -1001102021238   \n",
       "2         862  2023-10-02 16:37:39+00:00 -1001102021238   \n",
       "3         861  2023-09-16 07:54:32+00:00 -1001102021238   \n",
       "4         860  2023-09-01 16:16:15+00:00 -1001102021238   \n",
       "\n",
       "                                             message media_path channel_name  \n",
       "0  https://youtu.be/5DBoEm-8kmA?si=LDLuEecNfULJVD...        NaN    DoctorsET  \n",
       "1  ዶክተርስ ኢትዮጵያ በ አዲስ አቀራረብ በ ቴሌቪዥን ፕሮግራሙን ለመጀመር ከ...        NaN    DoctorsET  \n",
       "2  ሞት በስኳር \\r\\n\\r\\nለልጆቻችን የምናሲዘው ምሳቃ ሳናቀው እድሚያቸውን...        NaN    DoctorsET  \n",
       "3  ከ HIV የተፈወሰ ሰው አጋጥሟችሁ ያቃል ? ፈውስ እና ህክምና ?\\r\\n\\...        NaN    DoctorsET  \n",
       "4  በቅርብ ጊዜ በሃገራችን ላይ እየተስተዋለ ያለ የተመሳሳይ ፆታ ( Homos...        NaN    DoctorsET  "
      ]
     },
     "execution_count": 9,
     "metadata": {},
     "output_type": "execute_result"
    }
   ],
   "source": [
    "import pandas as pd\n",
    "import os\n",
    "\n",
    "os.chdir(r'c:\\Users\\ermias.tadesse\\10x\\Centralize-Ethiopian-Medical-Business-Data')\n",
    "# Load the merged data\n",
    "scraped_data = pd.read_excel('Data/raw/scraped_data.xlsx')\n",
    "\n",
    "# Display the first few rows\n",
    "scraped_data.head()\n"
   ]
  },
  {
   "cell_type": "markdown",
   "metadata": {},
   "source": [
    "#### 2. Remove Duplicates:\n",
    "Identify and remove any duplicate rows from the dataset."
   ]
  },
  {
   "cell_type": "code",
   "execution_count": 10,
   "metadata": {},
   "outputs": [
    {
     "name": "stdout",
     "output_type": "stream",
     "text": [
      "Removed 0 duplicate rows.\n"
     ]
    }
   ],
   "source": [
    "# Check for duplicates based on all columns\n",
    "duplicates = scraped_data.duplicated()\n",
    "\n",
    "# Remove duplicates\n",
    "scraped_data_cleaned = scraped_data.drop_duplicates()\n",
    "print(f\"Removed {duplicates.sum()} duplicate rows.\")\n"
   ]
  },
  {
   "cell_type": "markdown",
   "metadata": {},
   "source": [
    "#### 3. Handle Missing Values:\n",
    "Check for missing values in critical columns and decide how to handle them (e.g., dropping rows or filling missing data)."
   ]
  },
  {
   "cell_type": "code",
   "execution_count": 11,
   "metadata": {},
   "outputs": [
    {
     "name": "stdout",
     "output_type": "stream",
     "text": [
      "message_id        0\n",
      "date              0\n",
      "sender_id         0\n",
      "message         128\n",
      "media_path      300\n",
      "channel_name      0\n",
      "dtype: int64\n"
     ]
    },
    {
     "name": "stderr",
     "output_type": "stream",
     "text": [
      "C:\\Users\\ermias.tadesse\\AppData\\Local\\Temp\\ipykernel_27492\\3864566134.py:8: FutureWarning: A value is trying to be set on a copy of a DataFrame or Series through chained assignment using an inplace method.\n",
      "The behavior will change in pandas 3.0. This inplace method will never work because the intermediate object on which we are setting values always behaves as a copy.\n",
      "\n",
      "For example, when doing 'df[col].method(value, inplace=True)', try using 'df.method({col: value}, inplace=True)' or df[col] = df[col].method(value) instead, to perform the operation inplace on the original object.\n",
      "\n",
      "\n",
      "  scraped_data_cleaned['media_path'].fillna('No Media', inplace=True)\n"
     ]
    }
   ],
   "source": [
    "# Check for missing values\n",
    "print(scraped_data_cleaned.isnull().sum())\n",
    "\n",
    "# Drop rows with missing messages or dates\n",
    "scraped_data_cleaned = scraped_data_cleaned.dropna(subset=['message', 'date'])\n",
    "\n",
    "# Optionally, fill missing values in 'media_path' with a placeholder (e.g., 'No Media')\n",
    "scraped_data_cleaned['media_path'].fillna('No Media', inplace=True)\n"
   ]
  },
  {
   "cell_type": "markdown",
   "metadata": {},
   "source": [
    "#### 4. Standardize Formats:\n",
    "Ensure all columns are in a consistent format (e.g., convert dates to datetime format)."
   ]
  },
  {
   "cell_type": "code",
   "execution_count": 12,
   "metadata": {},
   "outputs": [],
   "source": [
    "# Convert 'date' column to datetime format\n",
    "scraped_data_cleaned['date'] = pd.to_datetime(scraped_data_cleaned['date'], errors='coerce')\n",
    "\n",
    "# Trim whitespace from text columns (if needed)\n",
    "scraped_data_cleaned['message'] = scraped_data_cleaned['message'].str.strip()"
   ]
  }
 ],
 "metadata": {
  "kernelspec": {
   "display_name": "venv",
   "language": "python",
   "name": "python3"
  },
  "language_info": {
   "codemirror_mode": {
    "name": "ipython",
    "version": 3
   },
   "file_extension": ".py",
   "mimetype": "text/x-python",
   "name": "python",
   "nbconvert_exporter": "python",
   "pygments_lexer": "ipython3",
   "version": "3.12.0"
  }
 },
 "nbformat": 4,
 "nbformat_minor": 2
}
