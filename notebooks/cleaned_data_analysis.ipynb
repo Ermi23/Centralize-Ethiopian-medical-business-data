{
 "cells": [
  {
   "cell_type": "markdown",
   "metadata": {},
   "source": [
    "# Task 1: Cleaned Data Analysis\n",
    "\n",
    "This notebook loads the Cleaned data collected from Telegram channels, processes it, and prepares it for the next tasks. We'll first inspect the data stored in the Excel file and ensure that the images are properly linked to the entries.\n",
    "\n",
    "**Steps:**\n",
    "1. Load the Cleaned data from the Excel file.\n",
    "2. Display basic statistics and a preview of the data.\n",
    "3. Ensure image paths are correctly stored and accessible.\n",
    "4. Handle any initial cleaning or formatting necessary.\n"
   ]
  },
  {
   "cell_type": "markdown",
   "metadata": {},
   "source": [
    "## - Merging with Channel Names\n",
    "\n",
    "This notebook loads the scraped data from multiple CSV files (one for each Telegram channel), merges them, and adds the `channel_name` attribute based on the file the data was loaded from. The result is saved in a single Excel file for future processing.\n",
    "\n",
    "**Steps:**\n",
    "1. Load the scraped data from multiple CSV files.\n",
    "2. Add the `channel_name` attribute based on the file name.\n",
    "3. Merge the data into a single DataFrame.\n",
    "4. Save the merged data into a single Excel file."
   ]
  },
  {
   "cell_type": "code",
   "execution_count": 3,
   "metadata": {},
   "outputs": [],
   "source": [
    "# Import necessary libraries\n",
    "import os\n",
    "import pandas as pd\n",
    "os.chdir(r'c:\\Users\\ermias.tadesse\\10x\\Centralize-Ethiopian-medical-business-data')\n",
    "# Define file paths for the CSV files and corresponding channel names\n",
    "csv_files = {\n",
    "    'Chemed.csv': 'data/cleaned/Chemed.csv',\n",
    "    'DoctorsET.csv': 'data/cleaned/DoctorsET.csv',\n",
    "    'EAHCI.csv': 'data/cleaned/EAHCI.csv',\n",
    "    'yetenaweg.csv': 'data/cleaned/yetenaweg.csv',\n",
    "    'lobelia4cosmetics.csv': 'data/cleaned/lobelia4cosmetics.csv'\n",
    "}\n",
    "\n",
    "# Define the output file path for the merged data\n",
    "output_excel_file = 'data/cleaned/scraped_data.xlsx'\n"
   ]
  },
  {
   "cell_type": "markdown",
   "metadata": {},
   "source": [
    "## - Load, Add channel_name, and Merge the CSV Files (Code):"
   ]
  },
  {
   "cell_type": "code",
   "execution_count": 4,
   "metadata": {},
   "outputs": [
    {
     "name": "stdout",
     "output_type": "stream",
     "text": [
      "Loaded data/cleaned/Chemed.csv with 0 records.\n",
      "Loaded data/cleaned/DoctorsET.csv with 100 records.\n",
      "Loaded data/cleaned/EAHCI.csv with 100 records.\n",
      "Loaded data/cleaned/yetenaweg.csv with 100 records.\n",
      "Loaded data/cleaned/lobelia4cosmetics.csv with 100 records.\n",
      "Successfully merged all files. Total records: 400\n"
     ]
    }
   ],
   "source": [
    "# Initialize an empty list to hold the dataframes\n",
    "dataframes = []\n",
    "\n",
    "# Loop over the CSV files, read each into a dataframe, and add the 'channel_name' column\n",
    "for channel, csv_file in csv_files.items():\n",
    "    try:\n",
    "        # Load each CSV file into a dataframe\n",
    "        df = pd.read_csv(csv_file)\n",
    "        print(f\"Loaded {csv_file} with {df.shape[0]} records.\")\n",
    "        \n",
    "        # Add the 'channel_name' column\n",
    "        df['channel_name'] = channel.replace('.csv', '')  # Add channel name without the '.csv' extension\n",
    "        \n",
    "        # Append dataframe to the list\n",
    "        dataframes.append(df)\n",
    "    except FileNotFoundError:\n",
    "        print(f\"File not found: {csv_file}\")\n",
    "    except Exception as e:\n",
    "        print(f\"Error loading {csv_file}: {str(e)}\")\n",
    "\n",
    "# Merge all the dataframes into a single dataframe\n",
    "if dataframes:\n",
    "    merged_data = pd.concat(dataframes, ignore_index=True)\n",
    "    print(f\"Successfully merged all files. Total records: {merged_data.shape[0]}\")\n",
    "else:\n",
    "    print(\"No dataframes were loaded.\")"
   ]
  },
  {
   "cell_type": "markdown",
   "metadata": {},
   "source": [
    "## - Save the Merged Data with channel_name Attribute (Code):"
   ]
  },
  {
   "cell_type": "code",
   "execution_count": 5,
   "metadata": {},
   "outputs": [
    {
     "name": "stdout",
     "output_type": "stream",
     "text": [
      "Merged data saved to data/cleaned/scraped_data.xlsx.\n"
     ]
    }
   ],
   "source": [
    "# Save the merged data to an Excel file\n",
    "if not merged_data.empty:\n",
    "    merged_data.to_excel(output_excel_file, index=False)\n",
    "    print(f\"Merged data saved to {output_excel_file}.\")\n",
    "else:\n",
    "    print(\"No data to save.\")"
   ]
  },
  {
   "cell_type": "markdown",
   "metadata": {},
   "source": [
    "## - Basic Data Inspection (Code):"
   ]
  },
  {
   "cell_type": "code",
   "execution_count": 6,
   "metadata": {},
   "outputs": [
    {
     "data": {
      "text/html": [
       "<div>\n",
       "<style scoped>\n",
       "    .dataframe tbody tr th:only-of-type {\n",
       "        vertical-align: middle;\n",
       "    }\n",
       "\n",
       "    .dataframe tbody tr th {\n",
       "        vertical-align: top;\n",
       "    }\n",
       "\n",
       "    .dataframe thead th {\n",
       "        text-align: right;\n",
       "    }\n",
       "</style>\n",
       "<table border=\"1\" class=\"dataframe\">\n",
       "  <thead>\n",
       "    <tr style=\"text-align: right;\">\n",
       "      <th></th>\n",
       "      <th>message_id</th>\n",
       "      <th>date</th>\n",
       "      <th>sender_id</th>\n",
       "      <th>message</th>\n",
       "      <th>media_path</th>\n",
       "      <th>channel_name</th>\n",
       "    </tr>\n",
       "  </thead>\n",
       "  <tbody>\n",
       "    <tr>\n",
       "      <th>0</th>\n",
       "      <td>864</td>\n",
       "      <td>2023-12-18 17:04:02+00:00</td>\n",
       "      <td>-1001102021238</td>\n",
       "      <td>https://youtu.be/5DBoEm-8kmA?si=LDLuEecNfULJVD...</td>\n",
       "      <td>NaN</td>\n",
       "      <td>DoctorsET</td>\n",
       "    </tr>\n",
       "    <tr>\n",
       "      <th>1</th>\n",
       "      <td>863</td>\n",
       "      <td>2023-11-03 16:14:39+00:00</td>\n",
       "      <td>-1001102021238</td>\n",
       "      <td>ዶክተርስ ኢትዮጵያ በ አዲስ አቀራረብ በ ቴሌቪዥን ፕሮግራሙን ለመጀመር ከ...</td>\n",
       "      <td>NaN</td>\n",
       "      <td>DoctorsET</td>\n",
       "    </tr>\n",
       "    <tr>\n",
       "      <th>2</th>\n",
       "      <td>862</td>\n",
       "      <td>2023-10-02 16:37:39+00:00</td>\n",
       "      <td>-1001102021238</td>\n",
       "      <td>ሞት በስኳር \\r\\n\\r\\nለልጆቻችን የምናሲዘው ምሳቃ ሳናቀው እድሚያቸውን...</td>\n",
       "      <td>NaN</td>\n",
       "      <td>DoctorsET</td>\n",
       "    </tr>\n",
       "    <tr>\n",
       "      <th>3</th>\n",
       "      <td>861</td>\n",
       "      <td>2023-09-16 07:54:32+00:00</td>\n",
       "      <td>-1001102021238</td>\n",
       "      <td>ከ HIV የተፈወሰ ሰው አጋጥሟችሁ ያቃል ? ፈውስ እና ህክምና ?\\r\\n\\...</td>\n",
       "      <td>NaN</td>\n",
       "      <td>DoctorsET</td>\n",
       "    </tr>\n",
       "    <tr>\n",
       "      <th>4</th>\n",
       "      <td>860</td>\n",
       "      <td>2023-09-01 16:16:15+00:00</td>\n",
       "      <td>-1001102021238</td>\n",
       "      <td>በቅርብ ጊዜ በሃገራችን ላይ እየተስተዋለ ያለ የተመሳሳይ ፆታ ( Homos...</td>\n",
       "      <td>NaN</td>\n",
       "      <td>DoctorsET</td>\n",
       "    </tr>\n",
       "  </tbody>\n",
       "</table>\n",
       "</div>"
      ],
      "text/plain": [
       "  message_id                       date       sender_id  \\\n",
       "0        864  2023-12-18 17:04:02+00:00  -1001102021238   \n",
       "1        863  2023-11-03 16:14:39+00:00  -1001102021238   \n",
       "2        862  2023-10-02 16:37:39+00:00  -1001102021238   \n",
       "3        861  2023-09-16 07:54:32+00:00  -1001102021238   \n",
       "4        860  2023-09-01 16:16:15+00:00  -1001102021238   \n",
       "\n",
       "                                             message media_path channel_name  \n",
       "0  https://youtu.be/5DBoEm-8kmA?si=LDLuEecNfULJVD...        NaN    DoctorsET  \n",
       "1  ዶክተርስ ኢትዮጵያ በ አዲስ አቀራረብ በ ቴሌቪዥን ፕሮግራሙን ለመጀመር ከ...        NaN    DoctorsET  \n",
       "2  ሞት በስኳር \\r\\n\\r\\nለልጆቻችን የምናሲዘው ምሳቃ ሳናቀው እድሚያቸውን...        NaN    DoctorsET  \n",
       "3  ከ HIV የተፈወሰ ሰው አጋጥሟችሁ ያቃል ? ፈውስ እና ህክምና ?\\r\\n\\...        NaN    DoctorsET  \n",
       "4  በቅርብ ጊዜ በሃገራችን ላይ እየተስተዋለ ያለ የተመሳሳይ ፆታ ( Homos...        NaN    DoctorsET  "
      ]
     },
     "metadata": {},
     "output_type": "display_data"
    },
    {
     "name": "stdout",
     "output_type": "stream",
     "text": [
      "Missing Values in Merged Data:\n"
     ]
    },
    {
     "data": {
      "text/plain": [
       "message_id        0\n",
       "date              0\n",
       "sender_id         0\n",
       "message         127\n",
       "media_path      300\n",
       "channel_name      0\n",
       "dtype: int64"
      ]
     },
     "metadata": {},
     "output_type": "display_data"
    }
   ],
   "source": [
    "# Display the first few rows of the merged data\n",
    "if not merged_data.empty:\n",
    "    display(merged_data.head())\n",
    "\n",
    "    # Check for missing values in the merged data\n",
    "    print(\"Missing Values in Merged Data:\")\n",
    "    display(merged_data.isnull().sum())"
   ]
  }
 ],
 "metadata": {
  "kernelspec": {
   "display_name": "venv",
   "language": "python",
   "name": "python3"
  },
  "language_info": {
   "codemirror_mode": {
    "name": "ipython",
    "version": 3
   },
   "file_extension": ".py",
   "mimetype": "text/x-python",
   "name": "python",
   "nbconvert_exporter": "python",
   "pygments_lexer": "ipython3",
   "version": "3.12.0"
  }
 },
 "nbformat": 4,
 "nbformat_minor": 2
}
